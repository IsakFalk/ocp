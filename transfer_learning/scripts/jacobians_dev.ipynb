{
 "cells": [
  {
   "cell_type": "code",
   "execution_count": 3,
   "metadata": {},
   "outputs": [],
   "source": [
    "import os\n",
    "import torch\n",
    "from ocpmodels.transfer_learning.common.utils import ATOMS_TO_GRAPH_KWARGS, load_xyz_to_pyg_batch, load_xyz_to_pyg_data"
   ]
  },
  {
   "cell_type": "code",
   "execution_count": 10,
   "metadata": {},
   "outputs": [],
   "source": [
    "scipts_dir = \"/home/novelli/ocp/transfer_learning/scripts\"\n",
    "# scipts_dir = os.path.dirname(os.path.realpath(__file__))\n",
    "tr_learning_dir, _ = os.path.split(scipts_dir)\n",
    "ocp_dir, _ = os.path.split(tr_learning_dir)\n",
    "\n",
    "\n",
    "model_chekpoint = os.path.join(ocp_dir, \"checkpoints/s2ef_efwt/all/schnet/schnet_all_large.pt\")\n",
    "data_dir = os.path.join(ocp_dir, \"data/luigi\")\n",
    "jacobians_dir = os.path.join(tr_learning_dir, \"data/jacobians\")"
   ]
  },
  {
   "cell_type": "code",
   "execution_count": 14,
   "metadata": {},
   "outputs": [],
   "source": [
    "xyz_files = []\n",
    "for file in os.listdir(data_dir):\n",
    "    if file.endswith(\".xyz\"):\n",
    "        xyz_files.append(os.path.join(data_dir, file))"
   ]
  },
  {
   "cell_type": "code",
   "execution_count": null,
   "metadata": {},
   "outputs": [],
   "source": []
  }
 ],
 "metadata": {
  "kernelspec": {
   "display_name": "ocp-models",
   "language": "python",
   "name": "python3"
  },
  "language_info": {
   "codemirror_mode": {
    "name": "ipython",
    "version": 3
   },
   "file_extension": ".py",
   "mimetype": "text/x-python",
   "name": "python",
   "nbconvert_exporter": "python",
   "pygments_lexer": "ipython3",
   "version": "3.9.16"
  },
  "orig_nbformat": 4
 },
 "nbformat": 4,
 "nbformat_minor": 2
}
