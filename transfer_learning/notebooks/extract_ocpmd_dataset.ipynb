{
 "cells": [
  {
   "cell_type": "code",
   "execution_count": 5,
   "id": "578f11e5",
   "metadata": {},
   "outputs": [],
   "source": [
    "import pickle as pkl\n",
    "from pprint import pprint"
   ]
  },
  {
   "cell_type": "code",
   "execution_count": 6,
   "id": "fdfecf9c",
   "metadata": {},
   "outputs": [],
   "source": [
    "with open(\"../../data/auxiliary/oc20_data_mapping.pkl\", \"rb\") as f:\n",
    "    ocpmapping = pkl.load(f)"
   ]
  },
  {
   "cell_type": "code",
   "execution_count": 38,
   "id": "cfc5919b",
   "metadata": {},
   "outputs": [],
   "source": [
    "new_dict = {}\n",
    "for key, val in ocpmapping.items():\n",
    "    if val[\"anomaly\"] != 0 or val[\"class\"] != 0 or \"Fe\" not in val[\"bulk_symbols\"]:\n",
    "        continue\n",
    "    ads = val[\"ads_symbols\"]\n",
    "    bulk = val[\"bulk_symbols\"]\n",
    "    miller = val[\"miller_index\"]\n",
    "    if ads not in new_dict.keys():\n",
    "        new_dict[ads] = {}\n",
    "    if bulk not in new_dict[ads].keys():\n",
    "        new_dict[ads][bulk] = {}\n",
    "    if miller not in new_dict[ads][bulk].keys():\n",
    "        new_dict[ads][bulk][miller] = []\n",
    "    new_dict[ads][bulk][miller].append(key)"
   ]
  },
  {
   "cell_type": "code",
   "execution_count": 30,
   "id": "9a5573b8",
   "metadata": {},
   "outputs": [],
   "source": [
    "with open('../../data/auxiliary/adslab_mapping.pkl', 'wb') as f:\n",
    "    pkl.dump(new_dict, f)"
   ]
  },
  {
   "cell_type": "code",
   "execution_count": 44,
   "id": "ebe58959",
   "metadata": {},
   "outputs": [
    {
     "data": {
      "text/plain": [
       "{(1, 1, 2): ['random1800463'], (1, 1, 1): ['random929124', 'random1089276']}"
      ]
     },
     "execution_count": 44,
     "metadata": {},
     "output_type": "execute_result"
    }
   ],
   "source": [
    "new_dict[\"*NH\"][\"Al2FeNi\"]"
   ]
  },
  {
   "cell_type": "code",
   "execution_count": 80,
   "id": "2096af0d",
   "metadata": {},
   "outputs": [],
   "source": [
    "ss = set(new_dict[\"*NH3\"].keys()) & set(new_dict[\"*NH2\"].keys()) & set(new_dict[\"*NH\"].keys()) & set(new_dict[\"*N\"].keys())"
   ]
  },
  {
   "cell_type": "code",
   "execution_count": 105,
   "id": "95d10f78",
   "metadata": {},
   "outputs": [
    {
     "data": {
      "text/plain": [
       "{'Al2FeNi',\n",
       " 'Al2FeRh',\n",
       " 'AlCrFe2',\n",
       " 'Hf18Fe2Mo8',\n",
       " 'Hf4Al4Fe4',\n",
       " 'HfFe2Sn',\n",
       " 'MnAl12Fe',\n",
       " 'NbGaFe2',\n",
       " 'TaTiFe2',\n",
       " 'V2CrFe'}"
      ]
     },
     "execution_count": 105,
     "metadata": {},
     "output_type": "execute_result"
    }
   ],
   "source": [
    "def calculate_upper(s):\n",
    "    return sum(1 for c in s if c.isupper())\n",
    "{s for s in ss if calculate_upper(s) in [3]}"
   ]
  },
  {
   "cell_type": "code",
   "execution_count": 50,
   "id": "0ba65fcf",
   "metadata": {},
   "outputs": [],
   "source": [
    "df = pd.DataFrame(ocpmapping)"
   ]
  },
  {
   "cell_type": "code",
   "execution_count": 52,
   "id": "05c6f085",
   "metadata": {},
   "outputs": [],
   "source": [
    "df = df.T"
   ]
  },
  {
   "cell_type": "code",
   "execution_count": 75,
   "id": "302db54d",
   "metadata": {},
   "outputs": [],
   "source": [
    "df = df[df[\"anomaly\"] == 0]\n",
    "df = df[df[\"class\"] == 0]"
   ]
  },
  {
   "cell_type": "code",
   "execution_count": 104,
   "id": "78b2c689",
   "metadata": {},
   "outputs": [
    {
     "data": {
      "text/plain": [
       "Index(['random2338479', 'random2165235', 'random1924290', 'random1111938',\n",
       "       'random2048068', 'random705040', 'random1837433', 'random2352149',\n",
       "       'random1399547', 'random837007', 'random705531', 'random1494813',\n",
       "       'random1461547', 'random848565', 'random1285990', 'random551549',\n",
       "       'random1484473', 'random828136', 'random755992', 'random1161384',\n",
       "       'random600758', 'random2159388', 'random1325945', 'random1712145',\n",
       "       'random1452415', 'random632372', 'random2315220', 'random2079589',\n",
       "       'random1083918', 'random1020186', 'random1977993', 'random1915965',\n",
       "       'random2222944', 'random732473', 'random2028822', 'random1612959',\n",
       "       'random2057804', 'random678558', 'random1449710'],\n",
       "      dtype='object')"
      ]
     },
     "execution_count": 104,
     "metadata": {},
     "output_type": "execute_result"
    }
   ],
   "source": [
    "adslist = [\"*NH3\", \"*NH2\", \"*NH\", \"*N\"]\n",
    "bulklist = ['Ti4Fe8', 'TiFe'] #\n",
    "bulklist = ['V3Fe', 'V6Fe2', 'VFe'] #, 'V3Fe', 'V6Fe2']\n",
    "_df = df.query(\"ads_symbols in @adslist and bulk_symbols in @bulklist\")\n",
    "\n",
    "_df.index"
   ]
  },
  {
   "cell_type": "code",
   "execution_count": 77,
   "id": "eaef17e9",
   "metadata": {},
   "outputs": [
    {
     "data": {
      "text/html": [
       "<div>\n",
       "<style scoped>\n",
       "    .dataframe tbody tr th:only-of-type {\n",
       "        vertical-align: middle;\n",
       "    }\n",
       "\n",
       "    .dataframe tbody tr th {\n",
       "        vertical-align: top;\n",
       "    }\n",
       "\n",
       "    .dataframe thead th {\n",
       "        text-align: right;\n",
       "    }\n",
       "</style>\n",
       "<table border=\"1\" class=\"dataframe\">\n",
       "  <thead>\n",
       "    <tr style=\"text-align: right;\">\n",
       "      <th></th>\n",
       "      <th>bulk_id</th>\n",
       "      <th>ads_id</th>\n",
       "      <th>bulk_mpid</th>\n",
       "      <th>bulk_symbols</th>\n",
       "      <th>ads_symbols</th>\n",
       "      <th>miller_index</th>\n",
       "      <th>shift</th>\n",
       "      <th>top</th>\n",
       "      <th>adsorption_site</th>\n",
       "      <th>class</th>\n",
       "      <th>anomaly</th>\n",
       "    </tr>\n",
       "  </thead>\n",
       "  <tbody>\n",
       "    <tr>\n",
       "      <th>random2157147</th>\n",
       "      <td>1412</td>\n",
       "      <td>74</td>\n",
       "      <td>mp-305</td>\n",
       "      <td>TiFe</td>\n",
       "      <td>*NH</td>\n",
       "      <td>(1, 1, 0)</td>\n",
       "      <td>0.25</td>\n",
       "      <td>True</td>\n",
       "      <td>((1.48, 7.58, 19.41),)</td>\n",
       "      <td>0</td>\n",
       "      <td>0</td>\n",
       "    </tr>\n",
       "    <tr>\n",
       "      <th>random2111229</th>\n",
       "      <td>4027</td>\n",
       "      <td>74</td>\n",
       "      <td>mp-16495</td>\n",
       "      <td>AlCrFe2</td>\n",
       "      <td>*NH</td>\n",
       "      <td>(1, 0, 0)</td>\n",
       "      <td>0.125</td>\n",
       "      <td>True</td>\n",
       "      <td>((0.0, 0.0, 22.7),)</td>\n",
       "      <td>0</td>\n",
       "      <td>0</td>\n",
       "    </tr>\n",
       "    <tr>\n",
       "      <th>random1318517</th>\n",
       "      <td>1729</td>\n",
       "      <td>72</td>\n",
       "      <td>mp-21260</td>\n",
       "      <td>Fe3Sn3</td>\n",
       "      <td>*NH3</td>\n",
       "      <td>(1, 0, 0)</td>\n",
       "      <td>0.167</td>\n",
       "      <td>True</td>\n",
       "      <td>((2.52, 2.32, 22.05),)</td>\n",
       "      <td>0</td>\n",
       "      <td>0</td>\n",
       "    </tr>\n",
       "    <tr>\n",
       "      <th>random1037243</th>\n",
       "      <td>6486</td>\n",
       "      <td>72</td>\n",
       "      <td>mp-979751</td>\n",
       "      <td>TaTiFe2</td>\n",
       "      <td>*NH3</td>\n",
       "      <td>(2, 2, 1)</td>\n",
       "      <td>0.025</td>\n",
       "      <td>True</td>\n",
       "      <td>((4.27, 6.58, 20.37),)</td>\n",
       "      <td>0</td>\n",
       "      <td>0</td>\n",
       "    </tr>\n",
       "    <tr>\n",
       "      <th>random378443</th>\n",
       "      <td>7290</td>\n",
       "      <td>77</td>\n",
       "      <td>mp-864890</td>\n",
       "      <td>Hf2FeIr</td>\n",
       "      <td>*N</td>\n",
       "      <td>(1, 1, 0)</td>\n",
       "      <td>0.125</td>\n",
       "      <td>True</td>\n",
       "      <td>((7.84, 9.68, 23.25),)</td>\n",
       "      <td>0</td>\n",
       "      <td>0</td>\n",
       "    </tr>\n",
       "    <tr>\n",
       "      <th>...</th>\n",
       "      <td>...</td>\n",
       "      <td>...</td>\n",
       "      <td>...</td>\n",
       "      <td>...</td>\n",
       "      <td>...</td>\n",
       "      <td>...</td>\n",
       "      <td>...</td>\n",
       "      <td>...</td>\n",
       "      <td>...</td>\n",
       "      <td>...</td>\n",
       "      <td>...</td>\n",
       "    </tr>\n",
       "    <tr>\n",
       "      <th>random2097080</th>\n",
       "      <td>1179</td>\n",
       "      <td>77</td>\n",
       "      <td>mp-568901</td>\n",
       "      <td>Nb4Fe8</td>\n",
       "      <td>*N</td>\n",
       "      <td>(2, 1, 2)</td>\n",
       "      <td>0.132</td>\n",
       "      <td>False</td>\n",
       "      <td>((6.65, 4.94, 21.95),)</td>\n",
       "      <td>0</td>\n",
       "      <td>0</td>\n",
       "    </tr>\n",
       "    <tr>\n",
       "      <th>random1996207</th>\n",
       "      <td>1789</td>\n",
       "      <td>74</td>\n",
       "      <td>mp-1095456</td>\n",
       "      <td>Nb4Fe8</td>\n",
       "      <td>*NH</td>\n",
       "      <td>(2, 1, 1)</td>\n",
       "      <td>0.055</td>\n",
       "      <td>False</td>\n",
       "      <td>((5.86, 2.75, 21.3),)</td>\n",
       "      <td>0</td>\n",
       "      <td>0</td>\n",
       "    </tr>\n",
       "    <tr>\n",
       "      <th>random2160515</th>\n",
       "      <td>708</td>\n",
       "      <td>74</td>\n",
       "      <td>mp-1722</td>\n",
       "      <td>FeZn13</td>\n",
       "      <td>*NH</td>\n",
       "      <td>(1, 1, 1)</td>\n",
       "      <td>0.06</td>\n",
       "      <td>False</td>\n",
       "      <td>((10.19, 6.8, 20.9),)</td>\n",
       "      <td>0</td>\n",
       "      <td>0</td>\n",
       "    </tr>\n",
       "    <tr>\n",
       "      <th>random956419</th>\n",
       "      <td>3920</td>\n",
       "      <td>77</td>\n",
       "      <td>mp-5778</td>\n",
       "      <td>AlVFe2</td>\n",
       "      <td>*N</td>\n",
       "      <td>(1, 1, 0)</td>\n",
       "      <td>0.125</td>\n",
       "      <td>True</td>\n",
       "      <td>((2.31, 2.87, 20.66),)</td>\n",
       "      <td>0</td>\n",
       "      <td>0</td>\n",
       "    </tr>\n",
       "    <tr>\n",
       "      <th>random605779</th>\n",
       "      <td>8051</td>\n",
       "      <td>72</td>\n",
       "      <td>mp-1193558</td>\n",
       "      <td>Hf18Fe2Mo8</td>\n",
       "      <td>*NH3</td>\n",
       "      <td>(2, 1, 2)</td>\n",
       "      <td>0.073</td>\n",
       "      <td>False</td>\n",
       "      <td>((6.08, 9.1, 29.9),)</td>\n",
       "      <td>0</td>\n",
       "      <td>0</td>\n",
       "    </tr>\n",
       "  </tbody>\n",
       "</table>\n",
       "<p>972 rows × 11 columns</p>\n",
       "</div>"
      ],
      "text/plain": [
       "              bulk_id ads_id   bulk_mpid bulk_symbols ads_symbols   \n",
       "random2157147    1412     74      mp-305         TiFe         *NH  \\\n",
       "random2111229    4027     74    mp-16495      AlCrFe2         *NH   \n",
       "random1318517    1729     72    mp-21260       Fe3Sn3        *NH3   \n",
       "random1037243    6486     72   mp-979751      TaTiFe2        *NH3   \n",
       "random378443     7290     77   mp-864890      Hf2FeIr          *N   \n",
       "...               ...    ...         ...          ...         ...   \n",
       "random2097080    1179     77   mp-568901       Nb4Fe8          *N   \n",
       "random1996207    1789     74  mp-1095456       Nb4Fe8         *NH   \n",
       "random2160515     708     74     mp-1722       FeZn13         *NH   \n",
       "random956419     3920     77     mp-5778       AlVFe2          *N   \n",
       "random605779     8051     72  mp-1193558   Hf18Fe2Mo8        *NH3   \n",
       "\n",
       "              miller_index  shift    top         adsorption_site class anomaly  \n",
       "random2157147    (1, 1, 0)   0.25   True  ((1.48, 7.58, 19.41),)     0       0  \n",
       "random2111229    (1, 0, 0)  0.125   True     ((0.0, 0.0, 22.7),)     0       0  \n",
       "random1318517    (1, 0, 0)  0.167   True  ((2.52, 2.32, 22.05),)     0       0  \n",
       "random1037243    (2, 2, 1)  0.025   True  ((4.27, 6.58, 20.37),)     0       0  \n",
       "random378443     (1, 1, 0)  0.125   True  ((7.84, 9.68, 23.25),)     0       0  \n",
       "...                    ...    ...    ...                     ...   ...     ...  \n",
       "random2097080    (2, 1, 2)  0.132  False  ((6.65, 4.94, 21.95),)     0       0  \n",
       "random1996207    (2, 1, 1)  0.055  False   ((5.86, 2.75, 21.3),)     0       0  \n",
       "random2160515    (1, 1, 1)   0.06  False   ((10.19, 6.8, 20.9),)     0       0  \n",
       "random956419     (1, 1, 0)  0.125   True  ((2.31, 2.87, 20.66),)     0       0  \n",
       "random605779     (2, 1, 2)  0.073  False    ((6.08, 9.1, 29.9),)     0       0  \n",
       "\n",
       "[972 rows x 11 columns]"
      ]
     },
     "execution_count": 77,
     "metadata": {},
     "output_type": "execute_result"
    }
   ],
   "source": [
    "_df[_df[\"bulk_symbols\"].str.contains(\"Fe\")]"
   ]
  },
  {
   "cell_type": "code",
   "execution_count": null,
   "id": "d5222ad8",
   "metadata": {},
   "outputs": [],
   "source": [
    "'Ti4Fe8',\n",
    "'TiFe',\n",
    "'VFe',\n",
    "'V3Fe',\n",
    "'V6Fe2',"
   ]
  }
 ],
 "metadata": {
  "kernelspec": {
   "display_name": "Python 3 (ipykernel)",
   "language": "python",
   "name": "python3"
  },
  "language_info": {
   "codemirror_mode": {
    "name": "ipython",
    "version": 3
   },
   "file_extension": ".py",
   "mimetype": "text/x-python",
   "name": "python",
   "nbconvert_exporter": "python",
   "pygments_lexer": "ipython3",
   "version": "3.9.16"
  }
 },
 "nbformat": 4,
 "nbformat_minor": 5
}
