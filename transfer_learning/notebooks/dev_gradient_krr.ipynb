{
 "cells": [
  {
   "cell_type": "code",
   "execution_count": 1,
   "metadata": {},
   "outputs": [
    {
     "name": "stderr",
     "output_type": "stream",
     "text": [
      "/home/novelli/anaconda3/envs/ocp-models/lib/python3.9/site-packages/tqdm/auto.py:21: TqdmWarning: IProgress not found. Please update jupyter and ipywidgets. See https://ipywidgets.readthedocs.io/en/stable/user_install.html\n",
      "  from .autonotebook import tqdm as notebook_tqdm\n"
     ]
    }
   ],
   "source": [
    "from pathlib import Path\n",
    "\n",
    "import numpy as np\n",
    "import torch\n",
    "import torch_geometric as pyg\n",
    "from sklearn.metrics import mean_squared_error\n",
    "from sklearn.model_selection import train_test_split\n",
    "from torch_geometric.data import Batch, Data\n",
    "import functorch\n",
    "import copy\n",
    "from ocpmodels.transfer_learning.models.distribution_regression import (\n",
    "    GaussianKernel,\n",
    "    KernelMeanEmbeddingRidgeRegression,\n",
    "    LinearMeanEmbeddingKernel,\n",
    "    StandardizedOutputRegression,\n",
    "    median_heuristic,\n",
    ")\n",
    "\n",
    "from ocpmodels.transfer_learning.common.utils import (\n",
    "    ATOMS_TO_GRAPH_KWARGS,\n",
    "    load_xyz_to_pyg_batch,\n",
    "    load_xyz_to_pyg_data,\n",
    ")\n",
    "from ocpmodels.transfer_learning.loaders import BaseLoader"
   ]
  },
  {
   "cell_type": "code",
   "execution_count": 2,
   "metadata": {},
   "outputs": [
    {
     "name": "stdout",
     "output_type": "stream",
     "text": [
      "/home/novelli/ocp\n"
     ]
    },
    {
     "name": "stderr",
     "output_type": "stream",
     "text": [
      "/home/novelli/ocp/ocpmodels/preprocessing/atoms_to_graphs.py:147: UserWarning: Creating a tensor from a list of numpy.ndarrays is extremely slow. Please consider converting the list to a single numpy.ndarray with numpy.array() before converting to a tensor. (Triggered internally at /opt/conda/conda-bld/pytorch_1670525551200/work/torch/csrc/utils/tensor_new.cpp:230.)\n",
      "  cell = torch.Tensor(atoms.get_cell()).view(1, 3, 3)\n",
      "WARNING:root:Error(s) in loading state_dict for SchNetWrap:\n",
      "\tUnexpected key(s) in state_dict: \"atomic_mass\", \"interactions.1.mlp.0.weight\", \"interactions.1.mlp.0.bias\", \"interactions.1.mlp.2.weight\", \"interactions.1.mlp.2.bias\", \"interactions.1.conv.lin1.weight\", \"interactions.1.conv.lin2.weight\", \"interactions.1.conv.lin2.bias\", \"interactions.1.conv.nn.0.weight\", \"interactions.1.conv.nn.0.bias\", \"interactions.1.conv.nn.2.weight\", \"interactions.1.conv.nn.2.bias\", \"interactions.1.lin.weight\", \"interactions.1.lin.bias\", \"interactions.2.mlp.0.weight\", \"interactions.2.mlp.0.bias\", \"interactions.2.mlp.2.weight\", \"interactions.2.mlp.2.bias\", \"interactions.2.conv.lin1.weight\", \"interactions.2.conv.lin2.weight\", \"interactions.2.conv.lin2.bias\", \"interactions.2.conv.nn.0.weight\", \"interactions.2.conv.nn.0.bias\", \"interactions.2.conv.nn.2.weight\", \"interactions.2.conv.nn.2.bias\", \"interactions.2.lin.weight\", \"interactions.2.lin.bias\", \"interactions.3.mlp.0.weight\", \"interactions.3.mlp.0.bias\", \"interactions.3.mlp.2.weight\", \"interactions.3.mlp.2.bias\", \"interactions.3.conv.lin1.weight\", \"interactions.3.conv.lin2.weight\", \"interactions.3.conv.lin2.bias\", \"interactions.3.conv.nn.0.weight\", \"interactions.3.conv.nn.0.bias\", \"interactions.3.conv.nn.2.weight\", \"interactions.3.conv.nn.2.bias\", \"interactions.3.lin.weight\", \"interactions.3.lin.bias\", \"interactions.4.mlp.0.weight\", \"interactions.4.mlp.0.bias\", \"interactions.4.mlp.2.weight\", \"interactions.4.mlp.2.bias\", \"interactions.4.conv.lin1.weight\", \"interactions.4.conv.lin2.weight\", \"interactions.4.conv.lin2.bias\", \"interactions.4.conv.nn.0.weight\", \"interactions.4.conv.nn.0.bias\", \"interactions.4.conv.nn.2.weight\", \"interactions.4.conv.nn.2.bias\", \"interactions.4.lin.weight\", \"interactions.4.lin.bias\". \n"
     ]
    }
   ],
   "source": [
    "%cd /home/novelli/ocp\n",
    "### Load checkpoint\n",
    "CHECKPOINT_PATH = Path(\"checkpoints/s2ef_efwt/all/schnet/schnet_all_large.pt\")\n",
    "checkpoint = torch.load(CHECKPOINT_PATH, map_location=\"cpu\")\n",
    "\n",
    "### Load data\n",
    "DATA_PATH = Path(\"data/luigi/example-traj-Fe-N2-111.xyz\")\n",
    "raw_data, data_batch, num_frames, num_atoms = load_xyz_to_pyg_batch(DATA_PATH, ATOMS_TO_GRAPH_KWARGS[\"schnet\"])\n",
    "raw_data, data_list, num_frames, num_atoms = load_xyz_to_pyg_data(DATA_PATH, ATOMS_TO_GRAPH_KWARGS[\"schnet\"])\n",
    "\n",
    "device = torch.device(\"cuda\" if torch.cuda.is_available() else \"cpu\")\n",
    "\n",
    "representation_layer = 1\n",
    "base_loader = BaseLoader(\n",
    "    checkpoint[\"config\"],\n",
    "    representation=True,\n",
    "    representation_kwargs={\n",
    "        \"representation_layer\": representation_layer,\n",
    "    },\n",
    ")\n",
    "base_loader.load_checkpoint(CHECKPOINT_PATH, strict_load=False)\n",
    "model = base_loader.model\n",
    "model.to(device)\n",
    "model.mekrr_forces = True"
   ]
  },
  {
   "cell_type": "code",
   "execution_count": 3,
   "metadata": {},
   "outputs": [],
   "source": [
    "class LinearKernel:\n",
    "    def __init__(self):\n",
    "        pass\n",
    "    def __call__(self, x, y):\n",
    "        return x @ y.T\n",
    "\n",
    "lkernel = LinearMeanEmbeddingKernel(LinearKernel())\n",
    "\n",
    "frames = 2\n",
    "dat = Batch.from_data_list(data_batch[:frames]).to(device)\n",
    "pos = dat[\"pos\"]\n",
    "pos.requires_grad = True"
   ]
  },
  {
   "cell_type": "code",
   "execution_count": 4,
   "metadata": {},
   "outputs": [],
   "source": [
    "c_0 = torch.zeros((frames,), device=device, requires_grad=False)\n",
    "c_1 = torch.zeros_like(pos, requires_grad=False)"
   ]
  },
  {
   "cell_type": "code",
   "execution_count": 24,
   "metadata": {},
   "outputs": [],
   "source": [
    "def lin_op(c_0, c_1, dat, kernel):\n",
    "    latent_vars = model(dat)[0]\n",
    "    latent_vars = latent_vars.reshape((-1, num_atoms, latent_vars.shape[-1])).clone().detach()\n",
    "    def model_wrapper(pos, **data):\n",
    "        data[\"pos\"] = pos\n",
    "        data = Data.from_dict(data).to(device)\n",
    "        return model(data)[0]\n",
    "    _dat = copy.deepcopy(dat).to_dict()\n",
    "    pos = _dat.pop(\"pos\")\n",
    "\n",
    "    c_0 = kernel(latent_vars, latent_vars)@c_0\n",
    "    print(c_0.shape)\n",
    "    jvp =  torch.autograd.functional.jvp(lambda x: kernel(model_wrapper(x, **_dat).reshape(-1, num_atoms, latent_vars.shape[-1]), latent_vars), pos, c_1)[1]\n",
    "    print(jvp.shape)\n",
    "    c_1 = c_1\n",
    "    return c_0, c_1"
   ]
  },
  {
   "cell_type": "code",
   "execution_count": 25,
   "metadata": {},
   "outputs": [
    {
     "name": "stderr",
     "output_type": "stream",
     "text": [
      "WARNING:root:Turning otf_graph=True as required attributes not present in data object\n",
      "WARNING:root:Turning otf_graph=True as required attributes not present in data object\n"
     ]
    },
    {
     "name": "stdout",
     "output_type": "stream",
     "text": [
      "torch.Size([2])\n",
      "torch.Size([2, 2])\n"
     ]
    }
   ],
   "source": [
    "_ = lin_op(c_0, c_1, dat, lkernel)"
   ]
  },
  {
   "cell_type": "code",
   "execution_count": null,
   "metadata": {},
   "outputs": [],
   "source": [
    "def f(pos, data, model, kernel):\n",
    "    h = model(data)[0]\n",
    "    h_ = h.clone().detach()\n",
    "    return kernel(h, h_)\n",
    "\n",
    "\n",
    "y = f(\n",
    "    pos,\n",
    "    dat,\n",
    "    model,\n",
    "    lkernel,\n",
    ")\n",
    "m = y.shape[0]\n",
    "gr = torch.autograd.grad(\n",
    "    outputs=y,\n",
    "    inputs=pos,\n",
    "    grad_outputs=torch.ones_like(y),\n",
    "    retain_graph=False,\n",
    "    create_graph=False,\n",
    "    allow_unused=False,\n",
    "    is_grads_batched=False,\n",
    ")[0]\n",
    "pos.shape\n",
    "gr.shape\n",
    "\n",
    "output, vjp_fn = torch.func.vjp(lambda x: f(x, dat, model, lkernel), pos)"
   ]
  }
 ],
 "metadata": {
  "kernelspec": {
   "display_name": "ocp-models",
   "language": "python",
   "name": "python3"
  },
  "language_info": {
   "codemirror_mode": {
    "name": "ipython",
    "version": 3
   },
   "file_extension": ".py",
   "mimetype": "text/x-python",
   "name": "python",
   "nbconvert_exporter": "python",
   "pygments_lexer": "ipython3",
   "version": "3.9.16"
  },
  "orig_nbformat": 4
 },
 "nbformat": 4,
 "nbformat_minor": 2
}
